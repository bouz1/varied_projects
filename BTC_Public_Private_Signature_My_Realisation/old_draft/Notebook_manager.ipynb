{
 "cells": [
  {
   "cell_type": "code",
   "execution_count": 6,
   "id": "2ee60de3-dec8-4c0e-9377-1897092f2fbf",
   "metadata": {},
   "outputs": [],
   "source": [
    "#pip install nbktools"
   ]
  },
  {
   "cell_type": "code",
   "execution_count": 2,
   "id": "82118b17-576e-40d2-bee2-8a324f994591",
   "metadata": {},
   "outputs": [],
   "source": [
    "import nbktools"
   ]
  },
  {
   "cell_type": "code",
   "execution_count": 4,
   "id": "1a8f7e1c-2e3c-4c77-9c56-08a709a472f7",
   "metadata": {},
   "outputs": [
    {
     "data": {
      "text/plain": [
       "['auto_tab_conten', 'creat_structure', 'merge_ntks', 'remove_empty', 'src']"
      ]
     },
     "execution_count": 4,
     "metadata": {},
     "output_type": "execute_result"
    }
   ],
   "source": [
    "[x for x in dir(nbktools) if not '__' in x]"
   ]
  },
  {
   "cell_type": "code",
   "execution_count": 8,
   "id": "040823fc-7c7f-41fe-8e08-68c8d69322c9",
   "metadata": {},
   "outputs": [],
   "source": [
    "from nbktools import *"
   ]
  },
  {
   "cell_type": "code",
   "execution_count": 10,
   "id": "26bd5685-2669-4eb7-a9f8-9afbd8bb3476",
   "metadata": {},
   "outputs": [
    {
     "name": "stdout",
     "output_type": "stream",
     "text": [
      "Help on function auto_tab_conten in module nbktools.src.nbktools:\n",
      "\n",
      "auto_tab_conten(ntk_inp_name, ntk_out_name, update=False, level=3)\n",
      "    Automatically generates a table of contents (TOC) for a Jupyter notebook and updates or creates it in the notebook file.\n",
      "    \n",
      "    Args:\n",
      "        ntk_inp_name (str): Input path to the Jupyter notebook file.\n",
      "        ntk_out_name (str): Output path where the modified notebook file will be saved.\n",
      "        update (bool, optional): If True, updates the existing TOC in the notebook file. If False, creates a new TOC. Default is False.\n",
      "        level (int): The title level to be taked in account for the table of contents. Default is 3. \n",
      "    \n",
      "    Returns:\n",
      "        None\n",
      "\n"
     ]
    }
   ],
   "source": [
    "help(auto_tab_conten)"
   ]
  },
  {
   "cell_type": "code",
   "execution_count": 12,
   "id": "46a10514-e033-47c3-ba6c-7615e1462529",
   "metadata": {},
   "outputs": [
    {
     "name": "stdout",
     "output_type": "stream",
     "text": [
      "Done\n"
     ]
    }
   ],
   "source": [
    "auto_tab_conten(ntk_inp_name=\"ECDSA_BTC_Local_version.ipynb\", \n",
    "                ntk_out_name=\"ECDSA_BTC_Local_versionV2.ipynb\", \n",
    "                update=True, level=3)"
   ]
  },
  {
   "cell_type": "code",
   "execution_count": null,
   "id": "99c43a64-7bc1-4bb8-a9ad-df60b3b0f81e",
   "metadata": {},
   "outputs": [],
   "source": []
  }
 ],
 "metadata": {
  "kernelspec": {
   "display_name": "KarnelVirEV1",
   "language": "python",
   "name": "karnelvirev1"
  },
  "language_info": {
   "codemirror_mode": {
    "name": "ipython",
    "version": 3
   },
   "file_extension": ".py",
   "mimetype": "text/x-python",
   "name": "python",
   "nbconvert_exporter": "python",
   "pygments_lexer": "ipython3",
   "version": "3.10.5"
  }
 },
 "nbformat": 4,
 "nbformat_minor": 5
}
