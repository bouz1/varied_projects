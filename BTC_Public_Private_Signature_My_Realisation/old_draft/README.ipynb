{
 "cells": [
  {
   "cell_type": "markdown",
   "id": "f2ed2ed9-1454-42af-b780-d26a06118a10",
   "metadata": {
    "tags": []
   },
   "source": [
    "<h1 style=\"text-align:center;\">\n",
    "BITCOIN: Local realisation: Private to public, Elliptic curve,signature, verification, Asymmetric cryptography using BTC EC... \n",
    "</h1>"
   ]
  },
  {
   "cell_type": "markdown",
   "id": "8988f07a-4de6-4962-8bef-d7244a1801c2",
   "metadata": {
    "tags": []
   },
   "source": [
    "# Introduction <a class=\"title_class\" id=\"title_1\"></a>"
   ]
  },
  {
   "cell_type": "markdown",
   "id": "33d17098-78b0-4a15-afa3-febb7b621018",
   "metadata": {},
   "source": [
    "### Why this project ?  <a class=\"title_class\" id=\"title_2\"></a>"
   ]
  },
  {
   "cell_type": "markdown",
   "id": "f9646439-339f-4a87-b6b8-80540dffb519",
   "metadata": {},
   "source": [
    "In this project we will make our version of BTC protocol using only common libraries such NumPy, Hashlib.\n",
    "<br> \n",
    "This project is for education prepose, please don't use it for real bitcoin transaction. \n",
    "* We will start by presenting the elliptic curve and its operations: addition, doubling, multiplication scalar / points.\n",
    "* We will develop some functions to convert a private key to public key and to BTC address.\n",
    "* We will developpe also functions for signature and verification.\n",
    "* In the end, we will introduce the ECDH key agreement protocol and use it in AES secure cryptography/communication"
   ]
  },
  {
   "cell_type": "markdown",
   "id": "ff90049b-e1a5-4aea-81bf-64f64cd223df",
   "metadata": {},
   "source": [
    "<div style=\"text-align: center;\">\n",
    "    <img src=\"BTC_EC.PNG\" style=\"width: 50%;text-align: center;\">\n",
    "</div>"
   ]
  },
  {
   "cell_type": "markdown",
   "id": "d2d740ab-def3-42e4-b312-222cf4206102",
   "metadata": {},
   "source": [
    "# Table of contents\n",
    " * [Introduction](#title_1)\n",
    "     * [Why this project ? ](#title_2)\n",
    " * [Table of contents](#title_3)\n",
    " * [Elliptic curve cryptography of the BTC Secp256K1](#title_4)\n",
    "     * [General libraries](#title_5)\n",
    "     * [General case $y^2=x^3+a x^2+b$](#title_6)\n",
    "   * [Bitcoin elliptic curve $y^2=x^3+7$](#title_7)\n",
    "     * [Bitcoin elliptic curve: Add 2 points and Doubling a point: Illustration](#title_8)\n",
    "     * [Bitcoin elliptic curve: Add 2 points and Doubling a point: for integers](#title_9)\n",
    "     * [Secp256K1 Parameters](#title_10)\n",
    "     * [Point additions (P+Q), point double (2P) for integers](#title_11)\n",
    "     * [Scalar and point multiplication (k.P) for integers](#title_12)\n",
    "   * [Private key to Public key](#title_13)\n",
    "     * [Test private to public key using local vs ecdsa library](#title_14)\n",
    " * [Pubilc key to BTC add](#title_15)\n",
    "   * [Compressed <=> Uncompressed public key convertion](#title_16)\n",
    "   * [Base 58](#title_17)\n",
    "   * [Public key to BTC address](#title_18)\n",
    " * [BTC signature and verification](#title_19)\n",
    "     * [Signature](#title_20)\n",
    "     * [Verification](#title_21)\n",
    "     * [Test the siganture and verification](#title_22)\n",
    " * [Elliptic-curve Diffie–Hellman (ECDH) ](#title_23)\n",
    "     * [Generate the common key](#title_24)\n",
    "     * [AES communication using the common key](#title_25)\n",
    " * [Sources](#title_26)"
   ]
  }
 ],
 "metadata": {
  "kernelspec": {
   "display_name": "KarnelVirEV1",
   "language": "python",
   "name": "karnelvirev1"
  },
  "language_info": {
   "codemirror_mode": {
    "name": "ipython",
    "version": 3
   },
   "file_extension": ".py",
   "mimetype": "text/x-python",
   "name": "python",
   "nbconvert_exporter": "python",
   "pygments_lexer": "ipython3",
   "version": "3.10.5"
  }
 },
 "nbformat": 4,
 "nbformat_minor": 5
}
